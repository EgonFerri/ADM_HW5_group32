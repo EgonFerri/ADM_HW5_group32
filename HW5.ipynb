{
 "cells": [
  {
   "cell_type": "markdown",
   "metadata": {},
   "source": [
    "# Homework 5 - Visit the Wikipedia hyperlinks graph!\n",
    "In this assignment we perform an analysis of the Wikipedia Hyperlink graph. In particular, given extra information about the categories to which an article belongs to, we are curious to rank the articles according to some criteria. "
   ]
  },
  {
   "cell_type": "code",
   "execution_count": 168,
   "metadata": {},
   "outputs": [],
   "source": [
    "import pandas as pd\n",
    "import json\n",
    "import pickle\n",
    "from tqdm import tqdm"
   ]
  },
  {
   "cell_type": "markdown",
   "metadata": {},
   "source": [
    "## Research questions\n",
    "\n",
    "\n",
    "### **[RQ1]** \n",
    "Build the graph <img src=\"https://latex.codecogs.com/gif.latex?G=(V,&space;E)\" title=\"G=(V, E)\" /> where *V* is the set of articles and *E* the hyperlinks among them, and provide its basic information:\n",
    " \n",
    "- If it is direct or not\n",
    "- The number of nodes\n",
    "- The number of edges \n",
    "- The average node degree. Is the graph dense?"
   ]
  },
  {
   "cell_type": "markdown",
   "metadata": {},
   "source": [
    "###### Build the graph!"
   ]
  },
  {
   "cell_type": "code",
   "execution_count": 208,
   "metadata": {
    "scrolled": false
   },
   "outputs": [
    {
     "name": "stdout",
     "output_type": "stream",
     "text": [
      "empty row\n"
     ]
    }
   ],
   "source": [
    "F = open('wiki-topcats-reduced.txt','r') \n",
    "rows=F.read().split('\\n') #split the rows\n",
    "grafo={} #initialize the graph\n",
    "for row in rows:\n",
    "        link=row.split('\\t') \n",
    "        if link[0] not in grafo: #add the vertex if it doesn't exist\n",
    "            try:\n",
    "                grafo[link[0]]=set()\n",
    "                grafo[link[0]].add(link[1]) #add the edge\n",
    "            except: print('empty row')\n",
    "        else:\n",
    "            grafo[link[0]].add(link[1])\n",
    "F.close()"
   ]
  },
  {
   "cell_type": "markdown",
   "metadata": {},
   "source": [
    "###### Find out if it's directed or not:"
   ]
  },
  {
   "cell_type": "code",
   "execution_count": 210,
   "metadata": {},
   "outputs": [
    {
     "name": "stdout",
     "output_type": "stream",
     "text": [
      "{'1161659', '402300', '723911', '1058269', '401227', '827334', '1163806', '401295', '401628', '1061728', '946986', '1163338', '401137', '1163551', '1288276', '595633', '401310', '1062938', '401231', '401171', '400980', '447882', '1060341', '1184538', '401154', '1394526', '1184217', '402715', '167532', '724192', '401018', '824998', '401975', '1169888', '1399606', '60219', '1288076', '630946', '1061885', '401019', '1061824', '401474', '1163407', '401609', '606279', '401457', '401053', '810461', '1061905', '1571179', '776478', '961942', '402265', '1062323', '401067', '1245651', '809904', '402718', '401184', '401505', '401981', '401315'}\n",
      "{'1066969', '1060396', '1069113', '1069258', '1061304', '1656982', '1069275', '1069008', '1062611'}\n",
      "{'1061960', '1062448', '1163562', '1400452', '66625', '1181827', '1454311', '1170120', '1262459', '263677', '1179310', '1638488', '167374', '751054', '1166302', '8961', '604445', '806219', '1383234', '811181', '1184026', '1164926', '1061736', '1163557', '678211', '1400531', '135342', '1400547', '1164945', '1061048', '1404655', '1063698', '1400461', '824192', '1164947', '344394', '1063365', '1062401', '1164930', '1707461', '1062273', '263737', '946977', '1173059', '1224811', '1063257', '1163226', '1408281', '1163564', '1163407', '823931', '1161705', '1163217', '1169028', '1386854', '1181228', '1179784', '1061284', '824207', '381238', '1061836', '1163579', '1400548', '1400635', '1184044', '1400024', '765915', '1183716', '1163584'}\n"
     ]
    }
   ],
   "source": [
    "for neighbors in grafo['52']:\n",
    "    print(grafo[neighbors])"
   ]
  },
  {
   "cell_type": "markdown",
   "metadata": {},
   "source": [
    "We see that it's undirected, since we have unspecular edges."
   ]
  },
  {
   "cell_type": "markdown",
   "metadata": {},
   "source": [
    "###### Get the number of nodes!"
   ]
  },
  {
   "cell_type": "code",
   "execution_count": 211,
   "metadata": {},
   "outputs": [
    {
     "data": {
      "text/plain": [
       "428958"
      ]
     },
     "execution_count": 211,
     "metadata": {},
     "output_type": "execute_result"
    }
   ],
   "source": [
    "nodes=len(grafo)\n",
    "nodes"
   ]
  },
  {
   "cell_type": "markdown",
   "metadata": {},
   "source": [
    "###### Get the number of edges!"
   ]
  },
  {
   "cell_type": "code",
   "execution_count": 212,
   "metadata": {},
   "outputs": [
    {
     "data": {
      "text/plain": [
       "2645247"
      ]
     },
     "execution_count": 212,
     "metadata": {},
     "output_type": "execute_result"
    }
   ],
   "source": [
    "edges=0\n",
    "for node in grafo:\n",
    "    edges+=(len(grafo[node]))\n",
    "edges"
   ]
  },
  {
   "cell_type": "markdown",
   "metadata": {},
   "source": [
    "###### Get the average node degree. Is the graph dense?"
   ]
  },
  {
   "cell_type": "markdown",
   "metadata": {},
   "source": [
    "In graph theory, the degree of a vertex of a graph is the number of edges incident to the vertex. The degree of a vertex $v$ is denoted $\\deg(v)$."
   ]
  },
  {
   "cell_type": "code",
   "execution_count": 213,
   "metadata": {},
   "outputs": [
    {
     "data": {
      "text/plain": [
       "6.1666806540500465"
      ]
     },
     "execution_count": 213,
     "metadata": {},
     "output_type": "execute_result"
    }
   ],
   "source": [
    "avg_degree= edges/nodes\n",
    "avg_degree"
   ]
  },
  {
   "cell_type": "markdown",
   "metadata": {},
   "source": [
    "As we see, the average node degree is slightly great than six.\n",
    "In mathematics, a dense graph is a graph in which the number of edges is close to the maximal number of edges.\n",
    "We can conclude that the graph is not dense. It is very sparse indeed."
   ]
  },
  {
   "cell_type": "code",
   "execution_count": 244,
   "metadata": {},
   "outputs": [],
   "source": [
    "F = open('wiki-topcats-page-names.txt','r')\n",
    "articles={}\n",
    "for line in F.readlines():\n",
    "    num=line.split()[0]\n",
    "    tit=line.split()[1:]\n",
    "    title=' '.join(tit)\n",
    "    articles[num]=title\n",
    "F.close()"
   ]
  },
  {
   "cell_type": "markdown",
   "metadata": {},
   "source": [
    "### **[RQ2]** \n",
    "Given a category <img src=\"https://latex.codecogs.com/gif.latex?C_0&space;=&space;\\{article_1,&space;article_2,&space;\\dots&space;\\}\" title=\"C_0 = \\{article_1, article_2, \\dots \\}\" /> as input we want to rank all of the nodes in *V* according to the following criteria:\n",
    "\t\n",
    "* Obtain a *block-ranking*, where the blocks are represented by the categories. In particular, we want:\n",
    "\n",
    "<img src=\"https://latex.codecogs.com/gif.latex?block_{RANKING}&space;=\\begin{bmatrix}&space;C_0&space;\\\\&space;C_1&space;\\\\&space;\\dots&space;\\\\&space;C_c\\\\&space;\\end{bmatrix}\" title=\"block_{RANKING} =\\begin{bmatrix} C_0 \\\\ C_1 \\\\ \\dots \\\\ C_c\\\\ \\end{bmatrix}\" />\n",
    "\t\n",
    "Each category $C_i$ corresponds to a list of nodes. \n",
    "\n",
    "The first category of the rank, $C_0$, always corresponds to the input category. The order of the remaining categories is given by:\n",
    "\n",
    "<img src=\"https://latex.codecogs.com/gif.latex?$$distance(C_0,&space;C_i)&space;=&space;median(ShortestPath(C_0,&space;C_i))$$\" title=\"distance(C_0, C_i) = median(ShortestPath(C_0, C_i))\" />\n",
    "\n",
    "The lower is the distance from $C_0$, the higher is the $C_i$ position in the rank. $ShortestPath(C_0, C_i)$ is the set of all the possible shortest paths between the nodes of $C_0$  and $C_i$. Moreover, the length of a path is given by the sum of the weights of the edges it is composed by.\n",
    "\n"
   ]
  },
  {
   "cell_type": "markdown",
   "metadata": {},
   "source": [
    "We create a dictionary that associate evry category with his articles."
   ]
  },
  {
   "cell_type": "code",
   "execution_count": 214,
   "metadata": {},
   "outputs": [],
   "source": [
    "F = open('wiki-topcats-categories.txt','r')\n",
    "categories={}\n",
    "for line in F.readlines():\n",
    "    riga=line.split(' ')\n",
    "    categoria=(riga[0].replace('Category:','').replace(';',''))\n",
    "    articles=(riga[1:-1])\n",
    "    articles.append(riga[-1].replace('\\n',''))\n",
    "    categories[categoria]= articles\n",
    "F.close()"
   ]
  },
  {
   "cell_type": "markdown",
   "metadata": {},
   "source": [
    "We take care of categories that contains only articles that are not in our graph:"
   ]
  },
  {
   "cell_type": "code",
   "execution_count": 215,
   "metadata": {},
   "outputs": [],
   "source": [
    "todelete=[]\n",
    "for cat in categories:\n",
    "    esiste=False\n",
    "    for art in categories[cat]:\n",
    "        esiste=art in grafo\n",
    "        if esiste==True: break          \n",
    "    if esiste==False:\n",
    "        todelete.append(cat)\n",
    "for cat in todelete:\n",
    "    del categories[cat]            "
   ]
  },
  {
   "cell_type": "markdown",
   "metadata": {},
   "source": [
    "We remove every article that is not in our graph:"
   ]
  },
  {
   "cell_type": "code",
   "execution_count": 217,
   "metadata": {},
   "outputs": [],
   "source": [
    "for cat in categories:\n",
    "    toremove=[]\n",
    "    for art in categories[cat]:\n",
    "        if art not in grafo:\n",
    "            toremove.append(art)\n",
    "    for art in toremove:\n",
    "        categories[cat].remove(art)\n",
    "\n",
    "        "
   ]
  },
  {
   "cell_type": "markdown",
   "metadata": {},
   "source": [
    "We store our final categories dictionary in an external pickle file so we can reload it in need."
   ]
  },
  {
   "cell_type": "code",
   "execution_count": 218,
   "metadata": {},
   "outputs": [],
   "source": [
    "with open('categories.pickle', 'wb') as handle:\n",
    "    pickle.dump(categories, handle, protocol=pickle.HIGHEST_PROTOCOL)\n"
   ]
  },
  {
   "cell_type": "code",
   "execution_count": 219,
   "metadata": {},
   "outputs": [],
   "source": [
    "with open('categories.pickle', 'rb') as handle:\n",
    "    categories = pickle.load(handle)"
   ]
  },
  {
   "cell_type": "code",
   "execution_count": 221,
   "metadata": {},
   "outputs": [
    {
     "data": {
      "text/plain": [
       "11954"
      ]
     },
     "execution_count": 221,
     "metadata": {},
     "output_type": "execute_result"
    }
   ],
   "source": [
    "len(categories)"
   ]
  },
  {
   "cell_type": "code",
   "execution_count": 229,
   "metadata": {},
   "outputs": [
    {
     "name": "stdout",
     "output_type": "stream",
     "text": [
      "Japanese_expatriate_footballers\n"
     ]
    }
   ],
   "source": [
    "inputcat=input()"
   ]
  },
  {
   "cell_type": "code",
   "execution_count": 249,
   "metadata": {},
   "outputs": [
    {
     "data": {
      "text/plain": [
       "['87351',\n",
       " '87352',\n",
       " '88946',\n",
       " '90384',\n",
       " '90502',\n",
       " '90528',\n",
       " '90530',\n",
       " '90754',\n",
       " '91000']"
      ]
     },
     "execution_count": 249,
     "metadata": {},
     "output_type": "execute_result"
    }
   ],
   "source": [
    "categories[inputcat][1:10]"
   ]
  },
  {
   "cell_type": "code",
   "execution_count": 248,
   "metadata": {},
   "outputs": [
    {
     "data": {
      "text/plain": [
       "'Junichi Inamoto'"
      ]
     },
     "execution_count": 248,
     "metadata": {},
     "output_type": "execute_result"
    }
   ],
   "source": [
    "articles['87351']"
   ]
  },
  {
   "cell_type": "code",
   "execution_count": null,
   "metadata": {},
   "outputs": [],
   "source": []
  },
  {
   "cell_type": "markdown",
   "metadata": {},
   "source": [
    "\n",
    "* Once you obtain the $\"block_{RANKING}\"$ vector, you want to sort the nodes in each category. The way you should sort them is explained by this example:\n",
    "\n",
    "\t*\tSuppose the categories order, given from the previous point, is <img src=\"https://latex.codecogs.com/gif.latex?C_0,&space;C_1,&space;C_2\" title=\"C_0, C_1, C_2\" />\n",
    "\n",
    "\n",
    "__[STEP1]__ Compute subgraph induced by <img src=\"https://latex.codecogs.com/gif.latex?C_0\" title=\"C_0\" />. For each node compute the sum of the weigths of the in-edges.\n",
    "\n",
    " <img src=\"https://latex.codecogs.com/gif.latex?score_{article_i}&space;=&space;\\sum_{i&space;\\in&space;in-edges}&space;w_i\" title=\"score_{article_i} = \\sum_{j \\in in-edges(article_i)} w_j\" />\n",
    "\n",
    "__[STEP2]__ Extend the graph to the nodes that belong to <img src=\"https://latex.codecogs.com/gif.latex?C_1\" title=\"C_1\" />. Thus, for each article in <img src=\"https://latex.codecogs.com/gif.latex?C_1\" title=\"C_1\" /> compute the score as before. __Note__ that the in-edges coming from the previous category, <img src=\"https://latex.codecogs.com/gif.latex?C_0\" title=\"C_0\" />, have as weights the score of the node that sends the edge.\n",
    "\n",
    "\n",
    "__[STEP3]__ Repeat Step2 up to the last category of the ranking. In the last step of the example you clearly see the weight update of the edge coming from node *E*.\n",
    "\t\n",
    "![alt text](imgs/algorithm.PNG)\n"
   ]
  }
 ],
 "metadata": {
  "kernelspec": {
   "display_name": "Python 3",
   "language": "python",
   "name": "python3"
  },
  "language_info": {
   "codemirror_mode": {
    "name": "ipython",
    "version": 3
   },
   "file_extension": ".py",
   "mimetype": "text/x-python",
   "name": "python",
   "nbconvert_exporter": "python",
   "pygments_lexer": "ipython3",
   "version": "3.6.5"
  }
 },
 "nbformat": 4,
 "nbformat_minor": 2
}
