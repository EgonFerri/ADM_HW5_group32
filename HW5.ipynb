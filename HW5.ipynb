{
 "cells": [
  {
   "cell_type": "markdown",
   "metadata": {},
   "source": [
    "# Homework 5 - Visit the Wikipedia hyperlinks graph!\n",
    "In this assignment we perform an analysis of the Wikipedia Hyperlink graph. In particular, given extra information about the categories to which an article belongs to, we are curious to rank the articles according to some criteria. "
   ]
  },
  {
   "cell_type": "code",
   "execution_count": 101,
   "metadata": {},
   "outputs": [],
   "source": [
    "import pandas as pd\n",
    "import json\n",
    "import pickle\n",
    "from tqdm import tqdm\n",
    "\n",
    "from collections import defaultdict\n",
    "from heapq import *\n",
    "import numpy as np"
   ]
  },
  {
   "cell_type": "markdown",
   "metadata": {},
   "source": [
    "## Research questions\n",
    "\n",
    "\n",
    "### **[RQ1]** \n",
    "Build the graph <img src=\"https://latex.codecogs.com/gif.latex?G=(V,&space;E)\" title=\"G=(V, E)\" /> where *V* is the set of articles and *E* the hyperlinks among them, and provide its basic information:\n",
    " \n",
    "- If it is direct or not\n",
    "- The number of nodes\n",
    "- The number of edges \n",
    "- The average node degree. Is the graph dense?"
   ]
  },
  {
   "cell_type": "markdown",
   "metadata": {},
   "source": [
    "###### Build the graph!"
   ]
  },
  {
   "cell_type": "code",
   "execution_count": 3,
   "metadata": {
    "scrolled": false
   },
   "outputs": [
    {
     "name": "stdout",
     "output_type": "stream",
     "text": [
      "empty row\n"
     ]
    }
   ],
   "source": [
    "F = open('wiki-topcats-reduced.txt','r') \n",
    "rows=F.read().split('\\n') #split the rows\n",
    "grafo={}#initialize the graph\n",
    "reciver_nodes=set()\n",
    "for row in rows:\n",
    "        link=row.split('\\t') \n",
    "        if link[0] not in grafo: #add the vertex if it doesn't exist\n",
    "            try:\n",
    "                grafo[link[0]]=set()\n",
    "                grafo[link[0]].add(link[1]) #add the edge\n",
    "                reciver_nodes.add(link[1])\n",
    "            except: print('empty row')\n",
    "        else:\n",
    "            grafo[link[0]].add(link[1])\n",
    "            reciver_nodes.add(link[1])\n",
    "F.close()"
   ]
  },
  {
   "cell_type": "code",
   "execution_count": 18,
   "metadata": {},
   "outputs": [],
   "source": [
    "onlyreciver=(reciver_nodes-set(grafo.keys()))\n",
    "for node in onlyreciver:\n",
    "    grafo[node]=set()"
   ]
  },
  {
   "cell_type": "markdown",
   "metadata": {},
   "source": [
    "###### Find out if it's directed or not:"
   ]
  },
  {
   "cell_type": "code",
   "execution_count": 23,
   "metadata": {},
   "outputs": [
    {
     "name": "stdout",
     "output_type": "stream",
     "text": [
      "{'1060341', '1061824', '402265', '402300', '630946', '1571179', '401457', '401227', '401137', '60219', '1062938', '1163407', '401067', '401053', '402715', '724192', '827334', '1163551', '1163338', '1288076', '824998', '776478', '1062323', '809904', '401505', '401171', '401315', '401018', '723911', '810461', '401975', '447882', '1061905', '401981', '401295', '595633', '1169888', '401310', '961942', '1061728', '1245651', '401184', '1058269', '1061885', '401154', '1184538', '401628', '1163806', '401474', '402718', '401019', '400980', '401231', '1161659', '1288276', '1394526', '1399606', '401609', '1184217', '946986', '167532', '606279'}\n",
      "{'765915', '1062401', '263677', '751054', '823931', '806219', '1061960', '1400547', '8961', '1163407', '1164945', '1061048', '811181', '1707461', '1400548', '1061284', '1169028', '381238', '135342', '1408281', '1163579', '1164926', '1166302', '604445', '1164930', '1179784', '678211', '1383234', '1400452', '344394', '946977', '1163226', '1400461', '824192', '66625', '1061736', '1163557', '1161705', '1179310', '1181228', '1164947', '1386854', '1404655', '1400635', '1638488', '1163217', '1163564', '1062273', '1063698', '1184026', '1262459', '1454311', '1063257', '824207', '1061836', '1183716', '1063365', '1184044', '263737', '1400024', '1181827', '1173059', '1400531', '1163584', '1224811', '1163562', '167374', '1062448', '1170120'}\n",
      "{'1062611', '1069008', '1060396', '1069258', '1069275', '1061304', '1066969', '1069113', '1656982'}\n"
     ]
    }
   ],
   "source": [
    "for neighbors in grafo['52']:\n",
    "    print(grafo[neighbors])"
   ]
  },
  {
   "cell_type": "markdown",
   "metadata": {},
   "source": [
    "We see that it's directed, since we have unspecular edges."
   ]
  },
  {
   "cell_type": "markdown",
   "metadata": {},
   "source": [
    "###### Get the number of nodes!"
   ]
  },
  {
   "cell_type": "code",
   "execution_count": 24,
   "metadata": {},
   "outputs": [
    {
     "data": {
      "text/plain": [
       "461194"
      ]
     },
     "execution_count": 24,
     "metadata": {},
     "output_type": "execute_result"
    }
   ],
   "source": [
    "nodes=len(grafo)\n",
    "nodes"
   ]
  },
  {
   "cell_type": "markdown",
   "metadata": {},
   "source": [
    "###### Get the number of edges!"
   ]
  },
  {
   "cell_type": "code",
   "execution_count": 26,
   "metadata": {},
   "outputs": [
    {
     "data": {
      "text/plain": [
       "2645247"
      ]
     },
     "execution_count": 26,
     "metadata": {},
     "output_type": "execute_result"
    }
   ],
   "source": [
    "edges=0\n",
    "for node in grafo:\n",
    "    try: edges+=(len(grafo[node]))\n",
    "    except: pass\n",
    "edges"
   ]
  },
  {
   "cell_type": "markdown",
   "metadata": {},
   "source": [
    "###### Get the average node degree. Is the graph dense?"
   ]
  },
  {
   "cell_type": "markdown",
   "metadata": {},
   "source": [
    "In graph theory, the degree of a vertex of a graph is the number of edges incident to the vertex. The degree of a vertex $v$ is denoted $\\deg(v)$."
   ]
  },
  {
   "cell_type": "code",
   "execution_count": 27,
   "metadata": {},
   "outputs": [
    {
     "data": {
      "text/plain": [
       "5.735649206190887"
      ]
     },
     "execution_count": 27,
     "metadata": {},
     "output_type": "execute_result"
    }
   ],
   "source": [
    "avg_degree= edges/nodes\n",
    "avg_degree"
   ]
  },
  {
   "cell_type": "markdown",
   "metadata": {},
   "source": [
    "As we see, the average node degree is slightly great than six.\n",
    "In mathematics, a dense graph is a graph in which the number of edges is close to the maximal number of edges.\n",
    "We can conclude that the graph is not dense. It is very sparse indeed."
   ]
  },
  {
   "cell_type": "code",
   "execution_count": 41,
   "metadata": {},
   "outputs": [],
   "source": [
    "F = open('wiki-topcats-page-names.txt','r')\n",
    "articles={}\n",
    "for line in F.readlines():\n",
    "    num=line.split()[0]\n",
    "    tit=line.split()[1:]\n",
    "    title=' '.join(tit)\n",
    "    articles[num]=title\n",
    "F.close()"
   ]
  },
  {
   "cell_type": "markdown",
   "metadata": {},
   "source": [
    "### **[RQ2]** \n",
    "Given a category <img src=\"https://latex.codecogs.com/gif.latex?C_0&space;=&space;\\{article_1,&space;article_2,&space;\\dots&space;\\}\" title=\"C_0 = \\{article_1, article_2, \\dots \\}\" /> as input we want to rank all of the nodes in *V* according to the following criteria:\n",
    "\t\n",
    "* Obtain a *block-ranking*, where the blocks are represented by the categories. In particular, we want:\n",
    "\n",
    "<img src=\"https://latex.codecogs.com/gif.latex?block_{RANKING}&space;=\\begin{bmatrix}&space;C_0&space;\\\\&space;C_1&space;\\\\&space;\\dots&space;\\\\&space;C_c\\\\&space;\\end{bmatrix}\" title=\"block_{RANKING} =\\begin{bmatrix} C_0 \\\\ C_1 \\\\ \\dots \\\\ C_c\\\\ \\end{bmatrix}\" />\n",
    "\t\n",
    "Each category $C_i$ corresponds to a list of nodes. \n",
    "\n",
    "The first category of the rank, $C_0$, always corresponds to the input category. The order of the remaining categories is given by:\n",
    "\n",
    "<img src=\"https://latex.codecogs.com/gif.latex?$$distance(C_0,&space;C_i)&space;=&space;median(ShortestPath(C_0,&space;C_i))$$\" title=\"distance(C_0, C_i) = median(ShortestPath(C_0, C_i))\" />\n",
    "\n",
    "The lower is the distance from $C_0$, the higher is the $C_i$ position in the rank. $ShortestPath(C_0, C_i)$ is the set of all the possible shortest paths between the nodes of $C_0$  and $C_i$. Moreover, the length of a path is given by the sum of the weights of the edges it is composed by.\n",
    "\n"
   ]
  },
  {
   "cell_type": "markdown",
   "metadata": {},
   "source": [
    "###### Creating the categories dictionary"
   ]
  },
  {
   "cell_type": "markdown",
   "metadata": {},
   "source": [
    "We create a dictionary that associate evry category with his articles."
   ]
  },
  {
   "cell_type": "code",
   "execution_count": 30,
   "metadata": {},
   "outputs": [],
   "source": [
    "F = open('wiki-topcats-categories.txt','r')\n",
    "categories={}\n",
    "for line in F.readlines():\n",
    "    riga=line.split(' ')\n",
    "    categoria=(riga[0].replace('Category:','').replace(';',''))\n",
    "    articles=(riga[1:-1])\n",
    "    articles.append(riga[-1].replace('\\n',''))\n",
    "    categories[categoria]= articles\n",
    "F.close()"
   ]
  },
  {
   "cell_type": "markdown",
   "metadata": {},
   "source": [
    "We take care of categories that contains only articles that are not in our graph:"
   ]
  },
  {
   "cell_type": "code",
   "execution_count": 31,
   "metadata": {},
   "outputs": [],
   "source": [
    "todelete=[]\n",
    "for cat in categories:\n",
    "    esiste=False\n",
    "    for art in categories[cat]:\n",
    "        esiste=art in grafo\n",
    "        if esiste==True: break          \n",
    "    if esiste==False:\n",
    "        todelete.append(cat)\n",
    "for cat in todelete:\n",
    "    del categories[cat]"
   ]
  },
  {
   "cell_type": "markdown",
   "metadata": {},
   "source": [
    "We remove every article that is not in our graph:"
   ]
  },
  {
   "cell_type": "code",
   "execution_count": 32,
   "metadata": {},
   "outputs": [],
   "source": [
    "for cat in categories:\n",
    "    toremove=[]\n",
    "    for art in categories[cat]:\n",
    "        if art not in grafo:\n",
    "            toremove.append(art)\n",
    "    for art in toremove:\n",
    "        categories[cat].remove(art)\n",
    "\n",
    "        "
   ]
  },
  {
   "cell_type": "markdown",
   "metadata": {},
   "source": [
    "We store our final categories dictionary in an external pickle file so we can reload it in need."
   ]
  },
  {
   "cell_type": "code",
   "execution_count": 34,
   "metadata": {},
   "outputs": [],
   "source": [
    "with open('categories.pickle', 'wb') as handle:\n",
    "    pickle.dump(categories, handle, protocol=pickle.HIGHEST_PROTOCOL)\n"
   ]
  },
  {
   "cell_type": "code",
   "execution_count": 35,
   "metadata": {},
   "outputs": [],
   "source": [
    "with open('categories.pickle', 'rb') as handle:\n",
    "    categories = pickle.load(handle)"
   ]
  },
  {
   "cell_type": "code",
   "execution_count": 36,
   "metadata": {},
   "outputs": [
    {
     "data": {
      "text/plain": [
       "11989"
      ]
     },
     "execution_count": 36,
     "metadata": {},
     "output_type": "execute_result"
    }
   ],
   "source": [
    "len(categories)"
   ]
  },
  {
   "cell_type": "markdown",
   "metadata": {},
   "source": [
    "###### The block ranking"
   ]
  },
  {
   "cell_type": "markdown",
   "metadata": {},
   "source": [
    "![alt text](https://upload.wikimedia.org/wikipedia/commons/thumb/e/e4/DijkstraDemo.gif/220px-DijkstraDemo.gif)"
   ]
  },
  {
   "cell_type": "code",
   "execution_count": 130,
   "metadata": {},
   "outputs": [],
   "source": [
    "def dijkstra(graph, f, t):\n",
    "    #sorting the graph\n",
    "    g = defaultdict(list, grafo)\n",
    "    q= [(0,f)] #intializing the queque\n",
    "    seen=set() #initializing the set of seen nodes\n",
    "    distances = {f: 0} #initializing the dict of the distances\n",
    "    while q:\n",
    "        (cost,v1) = heappop(q)\n",
    "        if v1 not in seen:\n",
    "            seen.add(v1)\n",
    "            if v1 == t: return (cost)\n",
    "            if g.get(v1) is not None: \n",
    "                for v2 in g.get(v1):\n",
    "                    if v2 in seen: continue\n",
    "                    prev = distances.get(v2, None)\n",
    "                    new = cost + 1\n",
    "                    if prev is None or new < prev:\n",
    "                        distances[v2] = new\n",
    "                        heappush(q, (new, v2))\n",
    "\n",
    "    return float(\"inf\")\n"
   ]
  },
  {
   "cell_type": "code",
   "execution_count": 134,
   "metadata": {},
   "outputs": [],
   "source": [
    "def catdistance(graph, catdict, cat1, cat2):\n",
    "    cat1nodes= catdict[cat1]\n",
    "    cat2nodes= catdict[cat2]\n",
    "    distances=[]\n",
    "    for node in cat1nodes:\n",
    "        for node2 in cat2nodes:\n",
    "            distances.append(dijkstra(graph=graph, f=node, t=node2))\n",
    "    return np.median(distances)"
   ]
  },
  {
   "cell_type": "code",
   "execution_count": 135,
   "metadata": {},
   "outputs": [
    {
     "data": {
      "text/plain": [
       "2.5"
      ]
     },
     "execution_count": 135,
     "metadata": {},
     "output_type": "execute_result"
    }
   ],
   "source": [
    "catdistance(cat1='Japanese_rock_music_groups', cat2='Visual_kei_bands', catdict=categories, graph=grafo)"
   ]
  },
  {
   "cell_type": "code",
   "execution_count": 139,
   "metadata": {},
   "outputs": [
    {
     "name": "stdout",
     "output_type": "stream",
     "text": [
      "Japanese_rock_music_groups\n"
     ]
    }
   ],
   "source": [
    "inputcat=input()"
   ]
  },
  {
   "cell_type": "code",
   "execution_count": 166,
   "metadata": {},
   "outputs": [],
   "source": [
    "blockranking=[(0, inputcat)]\n"
   ]
  },
  {
   "cell_type": "code",
   "execution_count": 167,
   "metadata": {},
   "outputs": [
    {
     "data": {
      "text/plain": [
       "[(0, 'Japanese_rock_music_groups')]"
      ]
     },
     "execution_count": 167,
     "metadata": {},
     "output_type": "execute_result"
    }
   ],
   "source": [
    "blockranking"
   ]
  },
  {
   "cell_type": "code",
   "execution_count": 168,
   "metadata": {},
   "outputs": [
    {
     "name": "stdout",
     "output_type": "stream",
     "text": [
      "10\n",
      "20\n",
      "30\n",
      "40\n",
      "50\n",
      "60\n",
      "70\n",
      "80\n"
     ]
    },
    {
     "ename": "KeyboardInterrupt",
     "evalue": "",
     "output_type": "error",
     "traceback": [
      "\u001b[1;31m---------------------------------------------------------------------------\u001b[0m",
      "\u001b[1;31mKeyboardInterrupt\u001b[0m                         Traceback (most recent call last)",
      "\u001b[1;32m<ipython-input-168-2b4816d4e617>\u001b[0m in \u001b[0;36m<module>\u001b[1;34m()\u001b[0m\n\u001b[0;32m      1\u001b[0m \u001b[0mcount\u001b[0m\u001b[1;33m=\u001b[0m\u001b[1;36m0\u001b[0m\u001b[1;33m\u001b[0m\u001b[0m\n\u001b[0;32m      2\u001b[0m \u001b[1;32mfor\u001b[0m \u001b[0mcategory\u001b[0m \u001b[1;32min\u001b[0m \u001b[0mcategories\u001b[0m\u001b[1;33m:\u001b[0m\u001b[1;33m\u001b[0m\u001b[0m\n\u001b[1;32m----> 3\u001b[1;33m     \u001b[0mblockranking\u001b[0m\u001b[1;33m.\u001b[0m\u001b[0mappend\u001b[0m\u001b[1;33m(\u001b[0m\u001b[1;33m(\u001b[0m\u001b[0mcatdistance\u001b[0m\u001b[1;33m(\u001b[0m\u001b[0mcat1\u001b[0m\u001b[1;33m=\u001b[0m\u001b[0minputcat\u001b[0m\u001b[1;33m,\u001b[0m \u001b[0mcat2\u001b[0m\u001b[1;33m=\u001b[0m\u001b[0mcategory\u001b[0m\u001b[1;33m,\u001b[0m\u001b[0mcatdict\u001b[0m\u001b[1;33m=\u001b[0m\u001b[0mcategories\u001b[0m\u001b[1;33m,\u001b[0m \u001b[0mgraph\u001b[0m\u001b[1;33m=\u001b[0m\u001b[0mgrafo\u001b[0m\u001b[1;33m)\u001b[0m\u001b[1;33m,\u001b[0m \u001b[0mcategory\u001b[0m\u001b[1;33m)\u001b[0m\u001b[1;33m)\u001b[0m\u001b[1;33m\u001b[0m\u001b[0m\n\u001b[0m\u001b[0;32m      4\u001b[0m     \u001b[0mcount\u001b[0m\u001b[1;33m+=\u001b[0m\u001b[1;36m1\u001b[0m\u001b[1;33m\u001b[0m\u001b[0m\n\u001b[0;32m      5\u001b[0m     \u001b[1;32mif\u001b[0m \u001b[0mcount\u001b[0m\u001b[1;33m%\u001b[0m\u001b[1;36m10\u001b[0m\u001b[1;33m==\u001b[0m\u001b[1;36m0\u001b[0m\u001b[1;33m:\u001b[0m \u001b[0mprint\u001b[0m\u001b[1;33m(\u001b[0m\u001b[0mcount\u001b[0m\u001b[1;33m)\u001b[0m\u001b[1;33m\u001b[0m\u001b[0m\n",
      "\u001b[1;32m<ipython-input-134-5aaf992ee3a0>\u001b[0m in \u001b[0;36mcatdistance\u001b[1;34m(graph, catdict, cat1, cat2)\u001b[0m\n\u001b[0;32m      5\u001b[0m     \u001b[1;32mfor\u001b[0m \u001b[0mnode\u001b[0m \u001b[1;32min\u001b[0m \u001b[1;33m(\u001b[0m\u001b[0mcat1nodes\u001b[0m\u001b[1;33m)\u001b[0m\u001b[1;33m:\u001b[0m\u001b[1;33m\u001b[0m\u001b[0m\n\u001b[0;32m      6\u001b[0m         \u001b[1;32mfor\u001b[0m \u001b[0mnode2\u001b[0m \u001b[1;32min\u001b[0m \u001b[0mcat2nodes\u001b[0m\u001b[1;33m:\u001b[0m\u001b[1;33m\u001b[0m\u001b[0m\n\u001b[1;32m----> 7\u001b[1;33m             \u001b[0mdistances\u001b[0m\u001b[1;33m.\u001b[0m\u001b[0mappend\u001b[0m\u001b[1;33m(\u001b[0m\u001b[0mdijkstra\u001b[0m\u001b[1;33m(\u001b[0m\u001b[0mgraph\u001b[0m\u001b[1;33m=\u001b[0m\u001b[0mgraph\u001b[0m\u001b[1;33m,\u001b[0m \u001b[0mf\u001b[0m\u001b[1;33m=\u001b[0m\u001b[0mnode\u001b[0m\u001b[1;33m,\u001b[0m \u001b[0mt\u001b[0m\u001b[1;33m=\u001b[0m\u001b[0mnode2\u001b[0m\u001b[1;33m)\u001b[0m\u001b[1;33m)\u001b[0m\u001b[1;33m\u001b[0m\u001b[0m\n\u001b[0m\u001b[0;32m      8\u001b[0m     \u001b[1;32mreturn\u001b[0m \u001b[0mnp\u001b[0m\u001b[1;33m.\u001b[0m\u001b[0mmedian\u001b[0m\u001b[1;33m(\u001b[0m\u001b[0mdistances\u001b[0m\u001b[1;33m)\u001b[0m\u001b[1;33m\u001b[0m\u001b[0m\n",
      "\u001b[1;32m<ipython-input-130-c8f4b7d3d96e>\u001b[0m in \u001b[0;36mdijkstra\u001b[1;34m(graph, f, t)\u001b[0m\n\u001b[0;32m     13\u001b[0m                 \u001b[1;32mfor\u001b[0m \u001b[0mv2\u001b[0m \u001b[1;32min\u001b[0m \u001b[0mg\u001b[0m\u001b[1;33m.\u001b[0m\u001b[0mget\u001b[0m\u001b[1;33m(\u001b[0m\u001b[0mv1\u001b[0m\u001b[1;33m)\u001b[0m\u001b[1;33m:\u001b[0m\u001b[1;33m\u001b[0m\u001b[0m\n\u001b[0;32m     14\u001b[0m                     \u001b[1;32mif\u001b[0m \u001b[0mv2\u001b[0m \u001b[1;32min\u001b[0m \u001b[0mseen\u001b[0m\u001b[1;33m:\u001b[0m \u001b[1;32mcontinue\u001b[0m\u001b[1;33m\u001b[0m\u001b[0m\n\u001b[1;32m---> 15\u001b[1;33m                     \u001b[0mprev\u001b[0m \u001b[1;33m=\u001b[0m \u001b[0mdistances\u001b[0m\u001b[1;33m.\u001b[0m\u001b[0mget\u001b[0m\u001b[1;33m(\u001b[0m\u001b[0mv2\u001b[0m\u001b[1;33m,\u001b[0m \u001b[1;32mNone\u001b[0m\u001b[1;33m)\u001b[0m\u001b[1;33m\u001b[0m\u001b[0m\n\u001b[0m\u001b[0;32m     16\u001b[0m                     \u001b[0mnew\u001b[0m \u001b[1;33m=\u001b[0m \u001b[0mcost\u001b[0m \u001b[1;33m+\u001b[0m \u001b[1;36m1\u001b[0m\u001b[1;33m\u001b[0m\u001b[0m\n\u001b[0;32m     17\u001b[0m                     \u001b[1;32mif\u001b[0m \u001b[0mprev\u001b[0m \u001b[1;32mis\u001b[0m \u001b[1;32mNone\u001b[0m \u001b[1;32mor\u001b[0m \u001b[0mnew\u001b[0m \u001b[1;33m<\u001b[0m \u001b[0mprev\u001b[0m\u001b[1;33m:\u001b[0m\u001b[1;33m\u001b[0m\u001b[0m\n",
      "\u001b[1;31mKeyboardInterrupt\u001b[0m: "
     ]
    }
   ],
   "source": [
    "count=0\n",
    "for category in categories:\n",
    "    blockranking.append((catdistance(cat1=inputcat, cat2=category,catdict=categories, graph=grafo), category))\n",
    "    count+=1\n",
    "    if count%10==0: print(count)"
   ]
  },
  {
   "cell_type": "code",
   "execution_count": 169,
   "metadata": {},
   "outputs": [
    {
     "data": {
      "text/plain": [
       "[(0, 'Japanese_rock_music_groups'),\n",
       " (2.0, 'Virus-related_cutaneous_conditions'),\n",
       " (2.5, 'Japanese_rock_music_groups'),\n",
       " (2.5, 'Visual_kei_bands'),\n",
       " (3.0, 'Chemical_elements'),\n",
       " (3.0, 'Medical_emergencies'),\n",
       " (3.0, 'Oxidizing_agents'),\n",
       " (3.5, 'Alkaloids'),\n",
       " (3.5, 'Carboxylate_esters'),\n",
       " (3.5, 'Congenital_disorders'),\n",
       " (3.5, 'Reproduction'),\n",
       " (4.0, 'Abnormal_psychology'),\n",
       " (4.0, 'Alkenes'),\n",
       " (4.0, 'Greek_loanwords'),\n",
       " (4.0, 'Medical_treatments'),\n",
       " (4.0, 'Neurological_disorders'),\n",
       " (4.0, 'Oncology'),\n",
       " (4.0, 'Oxides'),\n",
       " (4.0, 'World_Health_Organization_essential_medicines'),\n",
       " (4.5, 'Autoimmune_diseases'),\n",
       " (4.5, 'Cold_War'),\n",
       " (4.5, 'Nutrition'),\n",
       " (4.5, 'Physiology'),\n",
       " (5.0, 'Bases_of_the_United_States_Air_Force'),\n",
       " (5.0, 'Companies_of_Germany'),\n",
       " (5.0, 'Disability'),\n",
       " (5.0, 'Lactones'),\n",
       " (5.0, 'Military_history_of_the_United_States_(19001999)'),\n",
       " (5.0, 'Military_units_and_formations_of_the_United_States_in_World_War_II'),\n",
       " (5.0, 'Neurology'),\n",
       " (5.0, 'Neurophysiology'),\n",
       " (5.0, 'Phenol_ethers'),\n",
       " (5.0, 'Sequenced_genomes'),\n",
       " (5.0, 'Strategic_Air_Command'),\n",
       " (5.0, 'Surgery'),\n",
       " (5.0, 'United_States_Air_Force_airmen'),\n",
       " (5.5, 'Pharmacology'),\n",
       " (6.0, 'Health'),\n",
       " (6.0, 'Neuroscience'),\n",
       " (6.0, 'Nobel_laureates_in_Physiology_or_Medicine'),\n",
       " (6.0, 'Nuclear_physics'),\n",
       " (6.0, 'People_from_Winston-Salem,_North_Carolina'),\n",
       " (6.5, 'Alcohols'),\n",
       " (6.5, 'Amines'),\n",
       " (6.5, 'Enzymes'),\n",
       " (6.5, 'Mu-opioid_agonists'),\n",
       " (7.0, 'Metabolism'),\n",
       " (7.0, 'Recipients_of_the_Air_Medal'),\n",
       " (7.5, 'Dietary_supplements'),\n",
       " (7.5, 'Eli_Lilly_and_Company'),\n",
       " (7.5, 'Functional_groups'),\n",
       " (7.5, 'Obstetrics'),\n",
       " (8.0, 'People_from_Worcester'),\n",
       " (inf, 'American_World_War_II_flying_aces'),\n",
       " (inf, 'American_biologists'),\n",
       " (inf, 'American_geneticists'),\n",
       " (inf, 'Animal_virology'),\n",
       " (inf, 'Biotechnology'),\n",
       " (inf, 'Chemical_bonding'),\n",
       " (inf, 'DNA'),\n",
       " (inf, 'Developmental_biology'),\n",
       " (inf, 'Epidemiology'),\n",
       " (inf, 'Food_science'),\n",
       " (inf, 'Genomics'),\n",
       " (inf, 'Groups_of_the_United_States_Army_Air_Forces'),\n",
       " (inf, 'HIV/AIDS'),\n",
       " (inf, 'Histology'),\n",
       " (inf, 'History_of_medicine'),\n",
       " (inf, 'Immunology'),\n",
       " (inf, 'Inflammations'),\n",
       " (inf, 'Medical_equipment'),\n",
       " (inf, 'Medical_research'),\n",
       " (inf, 'Medical_terms'),\n",
       " (inf, 'Microbiology'),\n",
       " (inf, 'Molecular_biologists'),\n",
       " (inf, 'Molecular_biology'),\n",
       " (inf, 'Pediatrics'),\n",
       " (inf, 'Physical_chemistry'),\n",
       " (inf, 'Protein_families'),\n",
       " (inf, 'Protein_structure'),\n",
       " (inf, 'Proteins'),\n",
       " (inf, 'RNA'),\n",
       " (inf, 'Rare_diseases'),\n",
       " (inf, 'Syndromes'),\n",
       " (inf, 'Transcription_factors'),\n",
       " (inf, 'Tuberculosis'),\n",
       " (inf, 'Virology')]"
      ]
     },
     "execution_count": 169,
     "metadata": {},
     "output_type": "execute_result"
    }
   ],
   "source": [
    "sorted(blockranking)"
   ]
  },
  {
   "cell_type": "code",
   "execution_count": null,
   "metadata": {},
   "outputs": [],
   "source": []
  },
  {
   "cell_type": "code",
   "execution_count": 53,
   "metadata": {},
   "outputs": [
    {
     "data": {
      "text/plain": [
       "['1756455',\n",
       " '1756475',\n",
       " '1756480',\n",
       " '1756486',\n",
       " '1756487',\n",
       " '1756490',\n",
       " '1756508',\n",
       " '1756510',\n",
       " '1756517',\n",
       " '1756528']"
      ]
     },
     "execution_count": 53,
     "metadata": {},
     "output_type": "execute_result"
    }
   ],
   "source": [
    "categories[inputcat]"
   ]
  },
  {
   "cell_type": "code",
   "execution_count": 55,
   "metadata": {},
   "outputs": [
    {
     "data": {
      "text/plain": [
       "'Hameed Youssef'"
      ]
     },
     "execution_count": 55,
     "metadata": {},
     "output_type": "execute_result"
    }
   ],
   "source": [
    "articles['1756480']"
   ]
  },
  {
   "cell_type": "code",
   "execution_count": null,
   "metadata": {},
   "outputs": [],
   "source": []
  },
  {
   "cell_type": "markdown",
   "metadata": {},
   "source": [
    "\n",
    "* Once you obtain the $\"block_{RANKING}\"$ vector, you want to sort the nodes in each category. The way you should sort them is explained by this example:\n",
    "\n",
    "\t*\tSuppose the categories order, given from the previous point, is <img src=\"https://latex.codecogs.com/gif.latex?C_0,&space;C_1,&space;C_2\" title=\"C_0, C_1, C_2\" />\n",
    "\n",
    "\n",
    "__[STEP1]__ Compute subgraph induced by <img src=\"https://latex.codecogs.com/gif.latex?C_0\" title=\"C_0\" />. For each node compute the sum of the weigths of the in-edges.\n",
    "\n",
    " <img src=\"https://latex.codecogs.com/gif.latex?score_{article_i}&space;=&space;\\sum_{i&space;\\in&space;in-edges}&space;w_i\" title=\"score_{article_i} = \\sum_{j \\in in-edges(article_i)} w_j\" />\n",
    "\n",
    "__[STEP2]__ Extend the graph to the nodes that belong to <img src=\"https://latex.codecogs.com/gif.latex?C_1\" title=\"C_1\" />. Thus, for each article in <img src=\"https://latex.codecogs.com/gif.latex?C_1\" title=\"C_1\" /> compute the score as before. __Note__ that the in-edges coming from the previous category, <img src=\"https://latex.codecogs.com/gif.latex?C_0\" title=\"C_0\" />, have as weights the score of the node that sends the edge.\n",
    "\n",
    "\n",
    "__[STEP3]__ Repeat Step2 up to the last category of the ranking. In the last step of the example you clearly see the weight update of the edge coming from node *E*.\n",
    "\t\n",
    "![alt text](imgs/algorithm.PNG)\n"
   ]
  }
 ],
 "metadata": {
  "kernelspec": {
   "display_name": "Python 3",
   "language": "python",
   "name": "python3"
  },
  "language_info": {
   "codemirror_mode": {
    "name": "ipython",
    "version": 3
   },
   "file_extension": ".py",
   "mimetype": "text/x-python",
   "name": "python",
   "nbconvert_exporter": "python",
   "pygments_lexer": "ipython3",
   "version": "3.6.5"
  }
 },
 "nbformat": 4,
 "nbformat_minor": 2
}
